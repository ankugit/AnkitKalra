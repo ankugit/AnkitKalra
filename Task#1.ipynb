{
 "cells": [
  {
   "cell_type": "code",
   "execution_count": 1,
   "metadata": {},
   "outputs": [],
   "source": [
    "Prod=[\"A\", \"B\", \"C\", \"D\"]\n",
    "\n",
    "A=[]\n",
    "B=[]\n",
    "C=[]\n",
    "D=[]\n",
    "#A=[4,3,2]\n",
    "#B=[3,2,4]\n",
    "#C=[2,4,3]\n",
    "#D=[4,3,0]\n",
    "\n",
    "number=len(Prod)\n",
    "temp_4=[]\n",
    "global Result\n",
    "Result=[]\n",
    "Final_store=[]"
   ]
  },
  {
   "cell_type": "code",
   "execution_count": 3,
   "metadata": {},
   "outputs": [
    {
     "name": "stdout",
     "output_type": "stream",
     "text": [
      " Enter the parameters for A-4\n",
      " Enter the parameters for A-3\n",
      " Enter the parameters for A-2\n",
      " Enter the parameters for B-3\n",
      " Enter the parameters for B-2\n",
      " Enter the parameters for B-4\n",
      " Enter the parameters for C-2\n",
      " Enter the parameters for C-4\n",
      " Enter the parameters for C-3\n",
      " Enter the parameters for D-4\n",
      " Enter the parameters for D-3\n",
      " Enter the parameters for D-0\n"
     ]
    }
   ],
   "source": [
    "for i in range(3):\n",
    "    A.append(int(input(\" Enter the parameters for A-\")))\n",
    "for i in range(3):\n",
    "    B.append(int(input(\" Enter the parameters for B-\")))\n",
    "for i in range(3):\n",
    "    C.append(int(input(\" Enter the parameters for C-\")))\n",
    "for i in range(3):\n",
    "    D.append(int(input(\" Enter the parameters for D-\")))\n",
    "Task=[A,B,C,D]\n",
    "\n",
    "#Function to calculate all the combinations for the given number of products\n",
    "def ways_prod_4():\n",
    "    count=0\n",
    "    for i in range(number):\n",
    "        for j in range(number):\n",
    "            for k in range(number):\n",
    "                for l in range(number):\n",
    "                    if i!=j and j!=k and k!=l and i!=k and i!=l and j!=l:\n",
    "                        #print(Prod[i], Prod[j] , Prod[k], Prod[l])\n",
    "                        temp_4.append([Prod[i], Prod[j], Prod[k], Prod[l]])\n",
    "                        count+=1\n",
    "    print(\"There are \"+ str(count)+ \" ways\") "
   ]
  },
  {
   "cell_type": "code",
   "execution_count": 4,
   "metadata": {},
   "outputs": [
    {
     "name": "stdout",
     "output_type": "stream",
     "text": [
      "There are 24 ways\n"
     ]
    }
   ],
   "source": [
    "ways_prod_4()"
   ]
  },
  {
   "cell_type": "code",
   "execution_count": 5,
   "metadata": {},
   "outputs": [],
   "source": [
    "import numpy as np\n",
    "comb=np.array(temp_4)\n",
    "\n",
    "updated_store=np.array([10,10,10])\n"
   ]
  },
  {
   "cell_type": "code",
   "execution_count": 6,
   "metadata": {},
   "outputs": [],
   "source": [
    "#The comb_seq_each will be used to give input to check which returns the X,Y,Z values\n",
    "def check(string):\n",
    "    if string==\"A\":\n",
    "        return np.array(A)\n",
    "    if string==\"B\":\n",
    "        return np.array(B)\n",
    "    if string==\"C\":\n",
    "        return np.array(C)\n",
    "    if string==\"D\":\n",
    "        return np.array(D)"
   ]
  },
  {
   "cell_type": "code",
   "execution_count": 7,
   "metadata": {},
   "outputs": [],
   "source": [
    "#This function willbe run each time the store is updated...if it gives false values the software will stop\n",
    "def check_stop(stop):\n",
    "    if stop<=0:\n",
    "        print(\"Stop\")\n",
    "#check_stop(a.all())"
   ]
  },
  {
   "cell_type": "code",
   "execution_count": 8,
   "metadata": {},
   "outputs": [],
   "source": [
    "#This is the main running func\n",
    "\n",
    "def run():\n",
    "    comb_seq()\n",
    "    i=0\n",
    "    while(i<50):\n",
    "        print(\"\\n\")\n",
    "        print(str(Result[i])+\" made \"+str(Result[i+1])+ \" products.\"+\" :Store left after production:\"+ str(Final_store[i])+\"Items produced:\", end=\" \")\n",
    "        pr(Result[i], Result[i+1])\n",
    "        i=i+2"
   ]
  },
  {
   "cell_type": "code",
   "execution_count": 9,
   "metadata": {},
   "outputs": [],
   "source": [
    "def pr(result, num):\n",
    "    for i in range(num):\n",
    "        print(result[i], end=\" \")\n",
    "    "
   ]
  },
  {
   "cell_type": "code",
   "execution_count": 10,
   "metadata": {},
   "outputs": [],
   "source": [
    "#It accesses each combination and passes it to the comb_seq_each() which further passes it to check which retur\n",
    "#back the values of the parameters of X,Y,Z required.\n",
    "def comb_seq():\n",
    "    for j in range(len(comb)):\n",
    "        #print(comb[j])\n",
    "        Result.append(comb[j])\n",
    "        comb_seq_each(comb[j])\n",
    "\n",
    "\n",
    "def comb_seq_each(comb_temp):\n",
    "    updated_store=np.array([10,10,10])\n",
    "    global count\n",
    "    count=0\n",
    "    for i in range(number):\n",
    "        update=check(comb_temp[i])\n",
    "        #print(comb_temp[i])\n",
    "        updated_store=check_store(updated_store, check(comb_temp[i]))\n",
    "        #print(\"\\n\")\n",
    "        #print(update)\n",
    "    Result.append(count)\n",
    "   # print(count)\n",
    "    \n"
   ]
  },
  {
   "cell_type": "code",
   "execution_count": 11,
   "metadata": {},
   "outputs": [],
   "source": [
    "#The value will be in putted by the returned value from check() \n",
    "def check_store(updated_store, temp):\n",
    "    #print(updated_store, temp)\n",
    "    if (updated_store>temp).all():\n",
    "        #print(\"Item made....move to next item\")\n",
    "        global count\n",
    "        count+=1\n",
    "        #print(updated_store)\n",
    "        updated_store=updated_store-temp\n",
    "        #To check if anyvalue of the updated storeis negative or not\n",
    "        neg_store(updated_store)\n",
    "        #print(updated_store)\n",
    "        return updated_store\n",
    "    else:\n",
    "        #print(\"The process has stopped\")\n",
    "        Final_store.append(updated_store)\n",
    "        return updated_store\n",
    "    "
   ]
  },
  {
   "cell_type": "code",
   "execution_count": 12,
   "metadata": {},
   "outputs": [],
   "source": [
    "def neg_store(temp_neg):\n",
    "    if (temp_neg<0).any():\n",
    "        print(\"Stop--the store as exhausted\")\n",
    "    \n",
    "    \n",
    "    "
   ]
  },
  {
   "cell_type": "code",
   "execution_count": 14,
   "metadata": {},
   "outputs": [
    {
     "name": "stdout",
     "output_type": "stream",
     "text": [
      "\n",
      "\n",
      "['A' 'B' 'C' 'D'] made 3 products. :Store left after production:[1 1 1]Items produced: A B C \n",
      "\n",
      "['A' 'B' 'D' 'C'] made 3 products. :Store left after production:[1 1 1]Items produced: A B D \n",
      "\n",
      "['A' 'C' 'B' 'D'] made 3 products. :Store left after production:[2 4 8]Items produced: A C B \n",
      "\n",
      "['A' 'C' 'D' 'B'] made 3 products. :Store left after production:[2 4 8]Items produced: A C D \n",
      "\n",
      "['A' 'D' 'B' 'C'] made 2 products. :Store left after production:[1 1 1]Items produced: A D \n",
      "\n",
      "['A' 'D' 'C' 'B'] made 2 products. :Store left after production:[1 1 1]Items produced: A D \n",
      "\n",
      "['B' 'A' 'C' 'D'] made 3 products. :Store left after production:[3 5 6]Items produced: B A C \n",
      "\n",
      "['B' 'A' 'D' 'C'] made 3 products. :Store left after production:[1 1 1]Items produced: B A D \n",
      "\n",
      "['B' 'C' 'A' 'D'] made 3 products. :Store left after production:[1 1 1]Items produced: B C A \n",
      "\n",
      "['B' 'C' 'D' 'A'] made 3 products. :Store left after production:[4 3 7]Items produced: B C D \n",
      "\n",
      "['B' 'D' 'A' 'C'] made 3 products. :Store left after production:[2 4 8]Items produced: B D A \n",
      "\n",
      "['B' 'D' 'C' 'A'] made 3 products. :Store left after production:[2 4 8]Items produced: B D C \n",
      "\n",
      "['C' 'A' 'B' 'D'] made 3 products. :Store left after production:[3 5 6]Items produced: C A B \n",
      "\n",
      "['C' 'A' 'D' 'B'] made 3 products. :Store left after production:[4 3 7]Items produced: C A D \n",
      "\n",
      "['C' 'B' 'A' 'D'] made 3 products. :Store left after production:[1 1 1]Items produced: C B A \n",
      "\n",
      "['C' 'B' 'D' 'A'] made 3 products. :Store left after production:[1 1 1]Items produced: C B D \n",
      "\n",
      "['C' 'D' 'A' 'B'] made 3 products. :Store left after production:[2 4 8]Items produced: C D A \n",
      "\n",
      "['C' 'D' 'B' 'A'] made 3 products. :Store left after production:[2 4 8]Items produced: C D B \n",
      "\n",
      "['D' 'A' 'B' 'C'] made 2 products. :Store left after production:[1 1 1]Items produced: D A \n",
      "\n",
      "['D' 'A' 'C' 'B'] made 2 products. :Store left after production:[1 1 1]Items produced: D A \n",
      "\n",
      "['D' 'B' 'A' 'C'] made 3 products. :Store left after production:[3 5 6]Items produced: D B A \n",
      "\n",
      "['D' 'B' 'C' 'A'] made 3 products. :Store left after production:[1 1 1]Items produced: D B C \n",
      "\n",
      "['D' 'C' 'A' 'B'] made 3 products. :Store left after production:[1 1 1]Items produced: D C A \n",
      "\n",
      "['D' 'C' 'B' 'A'] made 3 products. :Store left after production:[4 3 7]Items produced: D C B \n",
      "\n",
      "['A' 'B' 'C' 'D'] made 3 products. :Store left after production:[2 4 8]Items produced: A B C "
     ]
    }
   ],
   "source": [
    "run()"
   ]
  },
  {
   "cell_type": "code",
   "execution_count": null,
   "metadata": {},
   "outputs": [],
   "source": [
    "input(\"Press enter to exit\")"
   ]
  }
 ],
 "metadata": {
  "kernelspec": {
   "display_name": "Python 3",
   "language": "python",
   "name": "python3"
  },
  "language_info": {
   "codemirror_mode": {
    "name": "ipython",
    "version": 3
   },
   "file_extension": ".py",
   "mimetype": "text/x-python",
   "name": "python",
   "nbconvert_exporter": "python",
   "pygments_lexer": "ipython3",
   "version": "3.6.4"
  }
 },
 "nbformat": 4,
 "nbformat_minor": 2
}
