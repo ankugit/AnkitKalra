{
 "cells": [
  {
   "cell_type": "code",
   "execution_count": 8,
   "metadata": {},
   "outputs": [
    {
     "data": {
      "text/html": [
       "<div>\n",
       "<style>\n",
       "    .dataframe thead tr:only-child th {\n",
       "        text-align: right;\n",
       "    }\n",
       "\n",
       "    .dataframe thead th {\n",
       "        text-align: left;\n",
       "    }\n",
       "\n",
       "    .dataframe tbody tr th {\n",
       "        vertical-align: top;\n",
       "    }\n",
       "</style>\n",
       "<table border=\"1\" class=\"dataframe\">\n",
       "  <thead>\n",
       "    <tr style=\"text-align: right;\">\n",
       "      <th></th>\n",
       "      <th>A</th>\n",
       "      <th>B</th>\n",
       "      <th>C</th>\n",
       "      <th>D</th>\n",
       "      <th>E</th>\n",
       "    </tr>\n",
       "  </thead>\n",
       "  <tbody>\n",
       "    <tr>\n",
       "      <th>w</th>\n",
       "      <td>0</td>\n",
       "      <td>0</td>\n",
       "      <td>1</td>\n",
       "      <td>1</td>\n",
       "      <td>0</td>\n",
       "    </tr>\n",
       "    <tr>\n",
       "      <th>x</th>\n",
       "      <td>1</td>\n",
       "      <td>0</td>\n",
       "      <td>1</td>\n",
       "      <td>1</td>\n",
       "      <td>1</td>\n",
       "    </tr>\n",
       "    <tr>\n",
       "      <th>y</th>\n",
       "      <td>1</td>\n",
       "      <td>1</td>\n",
       "      <td>1</td>\n",
       "      <td>1</td>\n",
       "      <td>0</td>\n",
       "    </tr>\n",
       "    <tr>\n",
       "      <th>z</th>\n",
       "      <td>1</td>\n",
       "      <td>1</td>\n",
       "      <td>0</td>\n",
       "      <td>1</td>\n",
       "      <td>1</td>\n",
       "    </tr>\n",
       "  </tbody>\n",
       "</table>\n",
       "</div>"
      ],
      "text/plain": [
       "   A  B  C  D  E\n",
       "w  0  0  1  1  0\n",
       "x  1  0  1  1  1\n",
       "y  1  1  1  1  0\n",
       "z  1  1  0  1  1"
      ]
     },
     "execution_count": 8,
     "metadata": {},
     "output_type": "execute_result"
    }
   ],
   "source": [
    "#Reading the Excel sheet\n",
    "from itertools import combinations, permutations\n",
    "import pandas as pd\n",
    "import random\n",
    "import numpy as np\n",
    "\n",
    "\n",
    "channel=[0,0]\n",
    "excel_file=\"data.xlsx\"\n",
    "data=pd.read_excel(excel_file)\n",
    "xl=pd.ExcelFile(io=\"data.xlsx\")\n",
    "data.head()"
   ]
  },
  {
   "cell_type": "code",
   "execution_count": 9,
   "metadata": {},
   "outputs": [
    {
     "name": "stdout",
     "output_type": "stream",
     "text": [
      "Total kinds of PCBs: 5\n",
      "Total kinds of components: 4\n"
     ]
    }
   ],
   "source": [
    "#Number of PCBs\n",
    "PCB=data.shape[1]\n",
    "Total_Component=data.shape[0]\n",
    "print(\"Total kinds of PCBs: {}\".format(PCB))\n",
    "print(\"Total kinds of components: {}\".format(Total_Component))"
   ]
  },
  {
   "cell_type": "code",
   "execution_count": 287,
   "metadata": {},
   "outputs": [],
   "source": [
    "def PCB_list(data):\n",
    "    temp=[]\n",
    "    for i in data.head():\n",
    "        temp.append(i)\n",
    "    return temp\n",
    "pcb_list=PCB_list(data)\n",
    "pcb_list\n",
    "\n",
    "#The name of the PCB is passed and requirements are returned in a list format\n",
    "def comp(t):\n",
    "    temp=[]\n",
    "    for j in data.index:\n",
    "        if data[t][j]==1:\n",
    "            temp.append(j)\n",
    "    return temp\n",
    "#number of ways to make PCBs\n",
    "def ways_to_make_pcb(pcb_list):\n",
    "    temp=list(permutations(pcb_list))\n",
    "    print(len(temp))\n",
    "    return temp\n",
    "\n",
    "def init_channel(channel):\n",
    "    #from the first combination it chooses any PCB at random\n",
    "    start_pcb=(comb_pcb[0][0])\n",
    "    #the components of the random pcb are taken\n",
    "    start_pcb_comp=d[start_pcb]\n",
    "    #The channel is set according to the requirements of the first PCB\n",
    "    #The problem might occur if the pcb requires only one PCB\n",
    "    \n",
    "    #If the PCb requires only one component the first channel is set according to the first pcb and the second one\n",
    "    #is selected at random from the next pcb to be made\n",
    "    if len(d[start_pcb])==1:\n",
    "        channel[0]=random.choice(start_pcb_comp)\n",
    "        while True:\n",
    "            channel[1]=random.choice(d[comb_pcb[0][1]])\n",
    "            if channel[0]!=channel[1]:\n",
    "                break\n",
    "    #In case the first pcb requires atleast 2 PCB's, we will not face any problem\n",
    "    else:\n",
    "        channel[0]=random.choice(start_pcb_comp)\n",
    "        while True:\n",
    "            channel[1]=random.choice(start_pcb_comp)\n",
    "            if(channel[0]!=channel[1]):\n",
    "                break\n",
    "    #print(\"Channel-1:{}\\nChannel-2:{}\".format(channel[0], channel[1]))\n",
    "    \n",
    "#The current pcb and the current combination is passed into the function and returns the next pcb to be made\n",
    "def next_pcb(current_pcb, current_comb):\n",
    "    return current_comb[current_comb.index(current_pcb)+1]\n",
    "\n",
    "\n",
    "#After placing the components pass this function to check if the pcb is made or not...if not\n",
    "#the list of remaining components will be passed\n",
    "\n",
    "#Take note here the temp stores the components placed on the PCB....inorder to make the current_pcb i had to change the para\n",
    "#meter to current_pcb_temp as the names were clashing\n",
    "def check(current_pcb_temp, channel, current_comb, temp_temp):\n",
    "    #store the components placed after checking if they are required or not\n",
    "    #try:\n",
    "    global temp\n",
    "    temp=temp_temp\n",
    "    global current_pcb\n",
    "    current_pcb=current_pcb_temp\n",
    "    if channel[0] in d[current_pcb]:\n",
    "        temp.append(channel[0])\n",
    "    if channel[1] in d[current_pcb]:\n",
    "        temp.append(channel[1])\n",
    "    #inorder to avoid duplications in the list\n",
    "    temp=list(set(temp))  \n",
    "    #except:\n",
    "        #try:\n",
    "            #if d[current_pcb].index(channel[1]):\n",
    "                #temp.append(channel[1])\n",
    "        #except:\n",
    "            #print(\"\")\n",
    "    #Temp stores the items placed on the PCB, if the pcb is made the \"PCB made\" is flashed and the current_pcb is \n",
    "    #changed to the next PCB in the combination\n",
    "    if len(np.setdiff1d(d[current_pcb], temp, assume_unique=False)) ==0:\n",
    "        print(\"PCB made- {}\".format(current_pcb))\n",
    "        #print(current_pcb)\n",
    "        current_pcb=next_pcb(current_pcb, current_comb)\n",
    "        #print(current_pcb)\n",
    "        #Once the PCB is made no need for the temp\n",
    "        print(\"The requirement is met\", temp)\n",
    "        temp=[]\n",
    "        modify_channel(current_pcb, d[current_pcb], channel, current_comb, temp)\n",
    "    else:\n",
    "        modify_channel(current_pcb,np.setdiff1d(d[current_pcb], temp), channel, current_comb,temp)\n",
    "\n",
    "#The current pcb, the required components to complete the current pcb , the channel config and the current comb is passed \n",
    "#If only 1 comp is left to make the pcb, the channel is checked if it has that or not\n",
    "    #If it has then the other channel is updated according to the next PCB to be made\n",
    "#If more than 1 components are required then both the channels are updated as per the requirements\n",
    "def modify_channel(current_pcb,comp_rem, channel, current_comb,temp):\n",
    "    if len(comp_rem)==1:\n",
    "        #try block required if channel.index() gives an error\n",
    "        try:\n",
    "            if channel.index(comp_rem)==0:\n",
    "                channel[1]=random.choice(d[next_pcb(current_pcb, current_comb)])\n",
    "            else:\n",
    "                channel[0]=random.choice(d[next_pcb(current_pcb, current_comb)])\n",
    "        except:\n",
    "            channel[0]=comp_rem[0]\n",
    "            while True:\n",
    "                channel[1]=random.choice(d[next_pcb(current_pcb, current_comb)])\n",
    "                if channel[0]!=channel[1]:\n",
    "                    break\n",
    "       # current_pcb=next_pcb(current_pcb, current_comb)\n",
    "    else:\n",
    "        channel[0]=random.choice(comp_rem)\n",
    "        while True:\n",
    "            channel[1]=random.choice(comp_rem)\n",
    "            if channel[0]!=channel[1]:\n",
    "                break\n",
    "        \n",
    "        "
   ]
  },
  {
   "cell_type": "code",
   "execution_count": 58,
   "metadata": {},
   "outputs": [
    {
     "name": "stdout",
     "output_type": "stream",
     "text": [
      "120\n",
      "Time taken to  remove the component from the channel(in min): 2.5\n",
      "Time taken to load the component on the channel(in min): 2.5\n"
     ]
    }
   ],
   "source": [
    "#Making a dictionary where we will store the requirements of PCBs\n",
    "d={}\n",
    "for i in range(len(pcb_list)):\n",
    "    d[pcb_list[i]]=comp(pcb_list[i])\n",
    "#Number of ways to make PCBs\n",
    "comb_pcb=ways_to_make_pcb(pcb_list)\n",
    "\n",
    "#Taking input from the user to give the input times\n",
    "time_remove=float(input(\"Time taken to  remove the component from the channel(in min): \"))\n",
    "time_load=float(input(\"Time taken to load the component on the channel(in min): \"))"
   ]
  },
  {
   "cell_type": "code",
   "execution_count": 309,
   "metadata": {},
   "outputs": [
    {
     "name": "stdout",
     "output_type": "stream",
     "text": [
      "Initial PCB in starting A\n",
      "Current channel before starting ['y', 'x']\n",
      "channel after first mod. ['z', 'y']\n",
      "Current PCB:  A\n",
      "Current channel before starting ['z', 'y']\n",
      "PCB made- A\n",
      "The requirement is met ['y', 'z', 'x']\n",
      "channel after first mod. ['y', 'z']\n",
      "Current PCB:  B\n",
      "Current channel before starting ['y', 'z']\n",
      "PCB made- B\n",
      "The requirement is met ['y', 'z']\n",
      "channel after first mod. ['y', 'x']\n",
      "Current PCB:  C\n",
      "Current channel before starting ['y', 'x']\n",
      "channel after first mod. ['w', 'y']\n",
      "Current PCB:  C\n",
      "Current channel before starting ['w', 'y']\n",
      "PCB made- C\n",
      "The requirement is met ['y', 'x', 'w']\n",
      "channel after first mod. ['y', 'w']\n",
      "Current PCB:  D\n",
      "Current channel before starting ['y', 'w']\n",
      "channel after first mod. ['x', 'z']\n",
      "Current PCB:  D\n",
      "Current channel before starting ['x', 'z']\n",
      "PCB made- D\n",
      "The requirement is met ['y', 'z', 'x', 'w']\n",
      "channel after first mod. ['x', 'z']\n",
      "Current PCB:  E\n",
      "Current channel before starting ['x', 'z']\n",
      "PCB made- E\n"
     ]
    }
   ],
   "source": [
    "init_channel(channel)\n",
    "current_pcb=0\n",
    "current_pcb=comb_pcb[0][0]\n",
    "current_comb=comb_pcb[0]\n",
    "#the channel has been init.\n",
    "#print(channel, current_pcb, current_comb)\n",
    "print(\"Initial PCB in starting\", current_pcb)\n",
    "\n",
    "\n",
    "temp=[]\n",
    "while True:\n",
    "    try:\n",
    "        print(\"Current channel before starting\",channel)\n",
    "        check(current_pcb, channel, current_comb, temp)\n",
    "        print(\"channel after first mod.\",channel)\n",
    "        print(\"Current PCB: \",current_pcb)\n",
    "    except:\n",
    "        break\n",
    "        \n"
   ]
  },
  {
   "cell_type": "code",
   "execution_count": 301,
   "metadata": {},
   "outputs": [
    {
     "name": "stdout",
     "output_type": "stream",
     "text": [
      "Current channel before starting ['z', 'x']\n",
      "PCB made- E\n"
     ]
    },
    {
     "ename": "IndexError",
     "evalue": "tuple index out of range",
     "output_type": "error",
     "traceback": [
      "\u001b[1;31m---------------------------------------------------------------------------\u001b[0m",
      "\u001b[1;31mIndexError\u001b[0m                                Traceback (most recent call last)",
      "\u001b[1;32m<ipython-input-301-7c3e50914d2d>\u001b[0m in \u001b[0;36m<module>\u001b[1;34m()\u001b[0m\n\u001b[0;32m      1\u001b[0m \u001b[0mtemp\u001b[0m\u001b[1;33m=\u001b[0m\u001b[1;33m[\u001b[0m\u001b[1;33m]\u001b[0m\u001b[1;33m\u001b[0m\u001b[0m\n\u001b[0;32m      2\u001b[0m \u001b[0mprint\u001b[0m\u001b[1;33m(\u001b[0m\u001b[1;34m\"Current channel before starting\"\u001b[0m\u001b[1;33m,\u001b[0m\u001b[0mchannel\u001b[0m\u001b[1;33m)\u001b[0m\u001b[1;33m\u001b[0m\u001b[0m\n\u001b[1;32m----> 3\u001b[1;33m \u001b[0mcheck\u001b[0m\u001b[1;33m(\u001b[0m\u001b[0mcurrent_pcb\u001b[0m\u001b[1;33m,\u001b[0m \u001b[0mchannel\u001b[0m\u001b[1;33m,\u001b[0m \u001b[0mcurrent_comb\u001b[0m\u001b[1;33m,\u001b[0m \u001b[0mtemp\u001b[0m\u001b[1;33m)\u001b[0m\u001b[1;33m\u001b[0m\u001b[0m\n\u001b[0m\u001b[0;32m      4\u001b[0m \u001b[0mprint\u001b[0m\u001b[1;33m(\u001b[0m\u001b[1;34m\"channel after first mod.\"\u001b[0m\u001b[1;33m,\u001b[0m\u001b[0mchannel\u001b[0m\u001b[1;33m)\u001b[0m\u001b[1;33m\u001b[0m\u001b[0m\n\u001b[0;32m      5\u001b[0m \u001b[0mprint\u001b[0m\u001b[1;33m(\u001b[0m\u001b[1;34m\"The components placed on {}\"\u001b[0m\u001b[1;33m.\u001b[0m\u001b[0mformat\u001b[0m\u001b[1;33m(\u001b[0m\u001b[0mcurrent_pcb\u001b[0m\u001b[1;33m)\u001b[0m\u001b[1;33m,\u001b[0m\u001b[0mtemp\u001b[0m\u001b[1;33m)\u001b[0m\u001b[1;33m\u001b[0m\u001b[0m\n",
      "\u001b[1;32m<ipython-input-287-951c0154e2d4>\u001b[0m in \u001b[0;36mcheck\u001b[1;34m(current_pcb_temp, channel, current_comb, temp_temp)\u001b[0m\n\u001b[0;32m     79\u001b[0m         \u001b[0mprint\u001b[0m\u001b[1;33m(\u001b[0m\u001b[1;34m\"PCB made- {}\"\u001b[0m\u001b[1;33m.\u001b[0m\u001b[0mformat\u001b[0m\u001b[1;33m(\u001b[0m\u001b[0mcurrent_pcb\u001b[0m\u001b[1;33m)\u001b[0m\u001b[1;33m)\u001b[0m\u001b[1;33m\u001b[0m\u001b[0m\n\u001b[0;32m     80\u001b[0m         \u001b[1;31m#print(current_pcb)\u001b[0m\u001b[1;33m\u001b[0m\u001b[1;33m\u001b[0m\u001b[0m\n\u001b[1;32m---> 81\u001b[1;33m         \u001b[0mcurrent_pcb\u001b[0m\u001b[1;33m=\u001b[0m\u001b[0mnext_pcb\u001b[0m\u001b[1;33m(\u001b[0m\u001b[0mcurrent_pcb\u001b[0m\u001b[1;33m,\u001b[0m \u001b[0mcurrent_comb\u001b[0m\u001b[1;33m)\u001b[0m\u001b[1;33m\u001b[0m\u001b[0m\n\u001b[0m\u001b[0;32m     82\u001b[0m         \u001b[1;31m#print(current_pcb)\u001b[0m\u001b[1;33m\u001b[0m\u001b[1;33m\u001b[0m\u001b[0m\n\u001b[0;32m     83\u001b[0m         \u001b[1;31m#Once the PCB is made no need for the temp\u001b[0m\u001b[1;33m\u001b[0m\u001b[1;33m\u001b[0m\u001b[0m\n",
      "\u001b[1;32m<ipython-input-287-951c0154e2d4>\u001b[0m in \u001b[0;36mnext_pcb\u001b[1;34m(current_pcb, current_comb)\u001b[0m\n\u001b[0;32m     47\u001b[0m \u001b[1;31m#The current pcb and the current combination is passed into the function and returns the next pcb to be made\u001b[0m\u001b[1;33m\u001b[0m\u001b[1;33m\u001b[0m\u001b[0m\n\u001b[0;32m     48\u001b[0m \u001b[1;32mdef\u001b[0m \u001b[0mnext_pcb\u001b[0m\u001b[1;33m(\u001b[0m\u001b[0mcurrent_pcb\u001b[0m\u001b[1;33m,\u001b[0m \u001b[0mcurrent_comb\u001b[0m\u001b[1;33m)\u001b[0m\u001b[1;33m:\u001b[0m\u001b[1;33m\u001b[0m\u001b[0m\n\u001b[1;32m---> 49\u001b[1;33m     \u001b[1;32mreturn\u001b[0m \u001b[0mcurrent_comb\u001b[0m\u001b[1;33m[\u001b[0m\u001b[0mcurrent_comb\u001b[0m\u001b[1;33m.\u001b[0m\u001b[0mindex\u001b[0m\u001b[1;33m(\u001b[0m\u001b[0mcurrent_pcb\u001b[0m\u001b[1;33m)\u001b[0m\u001b[1;33m+\u001b[0m\u001b[1;36m1\u001b[0m\u001b[1;33m]\u001b[0m\u001b[1;33m\u001b[0m\u001b[0m\n\u001b[0m\u001b[0;32m     50\u001b[0m \u001b[1;33m\u001b[0m\u001b[0m\n\u001b[0;32m     51\u001b[0m \u001b[1;33m\u001b[0m\u001b[0m\n",
      "\u001b[1;31mIndexError\u001b[0m: tuple index out of range"
     ]
    }
   ],
   "source": [
    "temp=[]\n",
    "print(\"Current channel before starting\",channel)\n",
    "check(current_pcb, channel, current_comb, temp)\n",
    "print(\"channel after first mod.\",channel)\n",
    "print(\"The components placed on {}\".format(current_pcb),temp)\n",
    "print(\"Current PCB: \",current_pcb)\n",
    "check(current_pcb, channel, current_comb, temp)\n",
    "print(\"Current PCB\", current_pcb)\n",
    "print(\"Updated channel\", channel)\n",
    "print(temp)\n",
    "check(current_pcb, channel, current_comb, temp)\n",
    "print(\"Current PCB\", current_pcb)\n",
    "print(\"Updated channel\", channel)\n",
    "print(temp)\n",
    "check(current_pcb, channel, current_comb, temp)\n",
    "print(\"Current PCB\", current_pcb)\n",
    "print(\"Updated channel\", channel)\n",
    "print(temp)\n",
    "check(current_pcb, channel, current_comb, temp)\n",
    "print(\"Current PCB\", current_pcb)\n",
    "print(\"Updated channel\", channel)\n",
    "print(temp)\n",
    "check(current_pcb, channel, current_comb, temp)\n",
    "print(\"Current PCB\", current_pcb)\n",
    "print(\"Updated channel\", channel)\n",
    "print(temp)\n",
    "check(current_pcb, channel, current_comb, temp)\n",
    "print(\"Current PCB\", current_pcb)\n",
    "print(\"Updated channel\", channel)\n",
    "print(temp)\n",
    "check(current_pcb, channel, current_comb, temp)\n",
    "print(\"Current PCB\", current_pcb)\n",
    "print(\"Updated channel\", channel)\n",
    "print(temp)"
   ]
  },
  {
   "cell_type": "code",
   "execution_count": 182,
   "metadata": {},
   "outputs": [
    {
     "data": {
      "text/plain": [
       "'B'"
      ]
     },
     "execution_count": 182,
     "metadata": {},
     "output_type": "execute_result"
    }
   ],
   "source": [
    "next_pcb(current_pcb, current_comb)"
   ]
  },
  {
   "cell_type": "code",
   "execution_count": 158,
   "metadata": {},
   "outputs": [
    {
     "data": {
      "text/plain": [
       "True"
      ]
     },
     "execution_count": 158,
     "metadata": {},
     "output_type": "execute_result"
    }
   ],
   "source": [
    "1 in [1,2,3]"
   ]
  },
  {
   "cell_type": "code",
   "execution_count": 284,
   "metadata": {},
   "outputs": [
    {
     "data": {
      "text/plain": [
       "[1, 2, 3, 4]"
      ]
     },
     "execution_count": 284,
     "metadata": {},
     "output_type": "execute_result"
    }
   ],
   "source": [
    "tu=[1,2,3,3,4]\n",
    "list(set(tu))"
   ]
  },
  {
   "cell_type": "code",
   "execution_count": 163,
   "metadata": {},
   "outputs": [
    {
     "data": {
      "text/plain": [
       "('A', 'B', 'C', 'D', 'E')"
      ]
     },
     "execution_count": 163,
     "metadata": {},
     "output_type": "execute_result"
    }
   ],
   "source": []
  },
  {
   "cell_type": "code",
   "execution_count": null,
   "metadata": {},
   "outputs": [],
   "source": [
    "init_channel(channel)"
   ]
  },
  {
   "cell_type": "code",
   "execution_count": null,
   "metadata": {},
   "outputs": [],
   "source": [
    "list1=[\"A\", \"B\", \"C\"]\n",
    "list2=[\"B\", \"D\"]\n",
    "list1-list(set(list1).intersection(list2))"
   ]
  },
  {
   "cell_type": "code",
   "execution_count": null,
   "metadata": {
    "collapsed": true
   },
   "outputs": [],
   "source": []
  },
  {
   "cell_type": "code",
   "execution_count": null,
   "metadata": {},
   "outputs": [],
   "source": [
    "next_pcb(\"A\", [\"A\", \"B\"])"
   ]
  },
  {
   "cell_type": "code",
   "execution_count": null,
   "metadata": {},
   "outputs": [],
   "source": [
    "d[\"A\"]"
   ]
  },
  {
   "cell_type": "code",
   "execution_count": null,
   "metadata": {},
   "outputs": [],
   "source": [
    "channel\n"
   ]
  },
  {
   "cell_type": "code",
   "execution_count": null,
   "metadata": {},
   "outputs": [],
   "source": [
    "list(set(d[\"A\"]).intersection(channel))"
   ]
  },
  {
   "cell_type": "code",
   "execution_count": null,
   "metadata": {},
   "outputs": [],
   "source": [
    "list(set(d[\"A\"]).intersection(channel))==d[\"A\"]"
   ]
  },
  {
   "cell_type": "code",
   "execution_count": null,
   "metadata": {
    "collapsed": true
   },
   "outputs": [],
   "source": []
  },
  {
   "cell_type": "code",
   "execution_count": null,
   "metadata": {},
   "outputs": [],
   "source": [
    "check(\"A\",channel, [\"A\", \"B\", \"C\", \"D\", \"E\"])"
   ]
  },
  {
   "cell_type": "code",
   "execution_count": null,
   "metadata": {},
   "outputs": [],
   "source": [
    "init_channel(channel)"
   ]
  },
  {
   "cell_type": "code",
   "execution_count": null,
   "metadata": {},
   "outputs": [],
   "source": [
    "np.setdiff1d(d[\"A\"], channel)"
   ]
  },
  {
   "cell_type": "code",
   "execution_count": null,
   "metadata": {},
   "outputs": [],
   "source": [
    "comp"
   ]
  },
  {
   "cell_type": "code",
   "execution_count": null,
   "metadata": {},
   "outputs": [],
   "source": [
    "try:\n",
    "    channel.index(\"y\")\n",
    "    print(\"Try\")\n",
    "except:\n",
    "    channel.index(\"z\")\n",
    "    print(\"except\")"
   ]
  },
  {
   "cell_type": "code",
   "execution_count": null,
   "metadata": {},
   "outputs": [],
   "source": [
    "permutations(range(100))"
   ]
  },
  {
   "cell_type": "code",
   "execution_count": null,
   "metadata": {
    "collapsed": true
   },
   "outputs": [],
   "source": []
  }
 ],
 "metadata": {
  "kernelspec": {
   "display_name": "Python 3",
   "language": "python",
   "name": "python3"
  },
  "language_info": {
   "codemirror_mode": {
    "name": "ipython",
    "version": 3
   },
   "file_extension": ".py",
   "mimetype": "text/x-python",
   "name": "python",
   "nbconvert_exporter": "python",
   "pygments_lexer": "ipython3",
   "version": "3.6.3"
  }
 },
 "nbformat": 4,
 "nbformat_minor": 2
}
